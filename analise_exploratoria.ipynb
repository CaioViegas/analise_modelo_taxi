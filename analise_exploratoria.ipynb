{
 "cells": [
  {
   "cell_type": "markdown",
   "metadata": {},
   "source": [
    "#### Importação e Download dos Arquivos"
   ]
  },
  {
   "cell_type": "code",
   "execution_count": 28,
   "metadata": {},
   "outputs": [],
   "source": [
    "import kagglehub\n",
    "import pandas as pd\n",
    "import numpy as np\n",
    "import os"
   ]
  },
  {
   "cell_type": "code",
   "execution_count": 8,
   "metadata": {},
   "outputs": [
    {
     "name": "stdout",
     "output_type": "stream",
     "text": [
      "Downloading from https://www.kaggle.com/api/v1/datasets/download/denkuznetz/taxi-price-prediction?dataset_version_number=1...\n"
     ]
    },
    {
     "name": "stderr",
     "output_type": "stream",
     "text": [
      "100%|██████████| 19.6k/19.6k [00:00<00:00, 9.88MB/s]"
     ]
    },
    {
     "name": "stdout",
     "output_type": "stream",
     "text": [
      "Extracting files...\n"
     ]
    },
    {
     "name": "stderr",
     "output_type": "stream",
     "text": [
      "\n"
     ]
    }
   ],
   "source": [
    "path = kagglehub.dataset_download(\"denkuznetz/taxi-price-prediction\")"
   ]
  },
  {
   "cell_type": "code",
   "execution_count": 14,
   "metadata": {},
   "outputs": [
    {
     "name": "stdout",
     "output_type": "stream",
     "text": [
      "Dataset path: C:\\Users\\caioc\\.cache\\kagglehub\\datasets\\denkuznetz\\taxi-price-prediction\\versions\\1\n",
      "Files in the directory: ['taxi_trip_pricing.csv']\n"
     ]
    }
   ],
   "source": [
    "print(\"Dataset path:\", path)\n",
    "print(\"Files in the directory:\", os.listdir(path))"
   ]
  },
  {
   "cell_type": "code",
   "execution_count": 15,
   "metadata": {},
   "outputs": [],
   "source": [
    "csv_path = os.path.join(path, 'taxi_trip_pricing.csv')  \n",
    "df = pd.read_csv(csv_path)"
   ]
  },
  {
   "cell_type": "markdown",
   "metadata": {},
   "source": [
    "#### Análise Inicial"
   ]
  },
  {
   "cell_type": "code",
   "execution_count": 16,
   "metadata": {},
   "outputs": [
    {
     "data": {
      "text/html": [
       "<div>\n",
       "<style scoped>\n",
       "    .dataframe tbody tr th:only-of-type {\n",
       "        vertical-align: middle;\n",
       "    }\n",
       "\n",
       "    .dataframe tbody tr th {\n",
       "        vertical-align: top;\n",
       "    }\n",
       "\n",
       "    .dataframe thead th {\n",
       "        text-align: right;\n",
       "    }\n",
       "</style>\n",
       "<table border=\"1\" class=\"dataframe\">\n",
       "  <thead>\n",
       "    <tr style=\"text-align: right;\">\n",
       "      <th></th>\n",
       "      <th>Trip_Distance_km</th>\n",
       "      <th>Time_of_Day</th>\n",
       "      <th>Day_of_Week</th>\n",
       "      <th>Passenger_Count</th>\n",
       "      <th>Traffic_Conditions</th>\n",
       "      <th>Weather</th>\n",
       "      <th>Base_Fare</th>\n",
       "      <th>Per_Km_Rate</th>\n",
       "      <th>Per_Minute_Rate</th>\n",
       "      <th>Trip_Duration_Minutes</th>\n",
       "      <th>Trip_Price</th>\n",
       "    </tr>\n",
       "  </thead>\n",
       "  <tbody>\n",
       "    <tr>\n",
       "      <th>0</th>\n",
       "      <td>19.35</td>\n",
       "      <td>Morning</td>\n",
       "      <td>Weekday</td>\n",
       "      <td>3.0</td>\n",
       "      <td>Low</td>\n",
       "      <td>Clear</td>\n",
       "      <td>3.56</td>\n",
       "      <td>0.80</td>\n",
       "      <td>0.32</td>\n",
       "      <td>53.82</td>\n",
       "      <td>36.2624</td>\n",
       "    </tr>\n",
       "    <tr>\n",
       "      <th>1</th>\n",
       "      <td>47.59</td>\n",
       "      <td>Afternoon</td>\n",
       "      <td>Weekday</td>\n",
       "      <td>1.0</td>\n",
       "      <td>High</td>\n",
       "      <td>Clear</td>\n",
       "      <td>NaN</td>\n",
       "      <td>0.62</td>\n",
       "      <td>0.43</td>\n",
       "      <td>40.57</td>\n",
       "      <td>NaN</td>\n",
       "    </tr>\n",
       "    <tr>\n",
       "      <th>2</th>\n",
       "      <td>36.87</td>\n",
       "      <td>Evening</td>\n",
       "      <td>Weekend</td>\n",
       "      <td>1.0</td>\n",
       "      <td>High</td>\n",
       "      <td>Clear</td>\n",
       "      <td>2.70</td>\n",
       "      <td>1.21</td>\n",
       "      <td>0.15</td>\n",
       "      <td>37.27</td>\n",
       "      <td>52.9032</td>\n",
       "    </tr>\n",
       "    <tr>\n",
       "      <th>3</th>\n",
       "      <td>30.33</td>\n",
       "      <td>Evening</td>\n",
       "      <td>Weekday</td>\n",
       "      <td>4.0</td>\n",
       "      <td>Low</td>\n",
       "      <td>NaN</td>\n",
       "      <td>3.48</td>\n",
       "      <td>0.51</td>\n",
       "      <td>0.15</td>\n",
       "      <td>116.81</td>\n",
       "      <td>36.4698</td>\n",
       "    </tr>\n",
       "    <tr>\n",
       "      <th>4</th>\n",
       "      <td>NaN</td>\n",
       "      <td>Evening</td>\n",
       "      <td>Weekday</td>\n",
       "      <td>3.0</td>\n",
       "      <td>High</td>\n",
       "      <td>Clear</td>\n",
       "      <td>2.93</td>\n",
       "      <td>0.63</td>\n",
       "      <td>0.32</td>\n",
       "      <td>22.64</td>\n",
       "      <td>15.6180</td>\n",
       "    </tr>\n",
       "  </tbody>\n",
       "</table>\n",
       "</div>"
      ],
      "text/plain": [
       "   Trip_Distance_km Time_of_Day Day_of_Week  Passenger_Count  \\\n",
       "0             19.35     Morning     Weekday              3.0   \n",
       "1             47.59   Afternoon     Weekday              1.0   \n",
       "2             36.87     Evening     Weekend              1.0   \n",
       "3             30.33     Evening     Weekday              4.0   \n",
       "4               NaN     Evening     Weekday              3.0   \n",
       "\n",
       "  Traffic_Conditions Weather  Base_Fare  Per_Km_Rate  Per_Minute_Rate  \\\n",
       "0                Low   Clear       3.56         0.80             0.32   \n",
       "1               High   Clear        NaN         0.62             0.43   \n",
       "2               High   Clear       2.70         1.21             0.15   \n",
       "3                Low     NaN       3.48         0.51             0.15   \n",
       "4               High   Clear       2.93         0.63             0.32   \n",
       "\n",
       "   Trip_Duration_Minutes  Trip_Price  \n",
       "0                  53.82     36.2624  \n",
       "1                  40.57         NaN  \n",
       "2                  37.27     52.9032  \n",
       "3                 116.81     36.4698  \n",
       "4                  22.64     15.6180  "
      ]
     },
     "execution_count": 16,
     "metadata": {},
     "output_type": "execute_result"
    }
   ],
   "source": [
    "df.head()"
   ]
  },
  {
   "cell_type": "code",
   "execution_count": 17,
   "metadata": {},
   "outputs": [
    {
     "name": "stdout",
     "output_type": "stream",
     "text": [
      "<class 'pandas.core.frame.DataFrame'>\n",
      "RangeIndex: 1000 entries, 0 to 999\n",
      "Data columns (total 11 columns):\n",
      " #   Column                 Non-Null Count  Dtype  \n",
      "---  ------                 --------------  -----  \n",
      " 0   Trip_Distance_km       950 non-null    float64\n",
      " 1   Time_of_Day            950 non-null    object \n",
      " 2   Day_of_Week            950 non-null    object \n",
      " 3   Passenger_Count        950 non-null    float64\n",
      " 4   Traffic_Conditions     950 non-null    object \n",
      " 5   Weather                950 non-null    object \n",
      " 6   Base_Fare              950 non-null    float64\n",
      " 7   Per_Km_Rate            950 non-null    float64\n",
      " 8   Per_Minute_Rate        950 non-null    float64\n",
      " 9   Trip_Duration_Minutes  950 non-null    float64\n",
      " 10  Trip_Price             951 non-null    float64\n",
      "dtypes: float64(7), object(4)\n",
      "memory usage: 86.1+ KB\n"
     ]
    }
   ],
   "source": [
    "df.info()"
   ]
  },
  {
   "cell_type": "code",
   "execution_count": 18,
   "metadata": {},
   "outputs": [
    {
     "name": "stdout",
     "output_type": "stream",
     "text": [
      "Colunas presentes: Index(['Trip_Distance_km', 'Time_of_Day', 'Day_of_Week', 'Passenger_Count',\n",
      "       'Traffic_Conditions', 'Weather', 'Base_Fare', 'Per_Km_Rate',\n",
      "       'Per_Minute_Rate', 'Trip_Duration_Minutes', 'Trip_Price'],\n",
      "      dtype='object')\n"
     ]
    }
   ],
   "source": [
    "print(f\"Colunas presentes: {df.columns}\")"
   ]
  },
  {
   "cell_type": "code",
   "execution_count": 19,
   "metadata": {},
   "outputs": [
    {
     "name": "stdout",
     "output_type": "stream",
     "text": [
      "Quantidade de Colunas: 11\n",
      "Quantidade de Linhas: 1000\n"
     ]
    }
   ],
   "source": [
    "print(f\"Quantidade de Colunas: {df.shape[1]}\")\n",
    "print(f\"Quantidade de Linhas: {df.shape[0]}\")"
   ]
  },
  {
   "cell_type": "code",
   "execution_count": 21,
   "metadata": {},
   "outputs": [
    {
     "name": "stdout",
     "output_type": "stream",
     "text": [
      "Quantidade de valores nulos por coluna (Porcentagem)\n"
     ]
    },
    {
     "data": {
      "text/plain": [
       "Trip_Distance_km         0.050\n",
       "Time_of_Day              0.050\n",
       "Day_of_Week              0.050\n",
       "Passenger_Count          0.050\n",
       "Traffic_Conditions       0.050\n",
       "Weather                  0.050\n",
       "Base_Fare                0.050\n",
       "Per_Km_Rate              0.050\n",
       "Per_Minute_Rate          0.050\n",
       "Trip_Duration_Minutes    0.050\n",
       "Trip_Price               0.049\n",
       "dtype: float64"
      ]
     },
     "execution_count": 21,
     "metadata": {},
     "output_type": "execute_result"
    }
   ],
   "source": [
    "print(\"Quantidade de valores nulos por coluna (Porcentagem)\")\n",
    "df.isnull().sum() / len(df)"
   ]
  },
  {
   "cell_type": "markdown",
   "metadata": {},
   "source": [
    "#### Análise das Colunas Categóricas e Numéricas"
   ]
  },
  {
   "cell_type": "code",
   "execution_count": 22,
   "metadata": {},
   "outputs": [
    {
     "name": "stdout",
     "output_type": "stream",
     "text": [
      "Colunas categóricas:\n",
      "\n",
      "Coluna (Quantidade total): Time_of_Day\n",
      "Time_of_Day\n",
      "Afternoon    371\n",
      "Morning      283\n",
      "Evening      203\n",
      "Night         93\n",
      "Name: count, dtype: int64\n",
      "\n",
      "Coluna (Quantidade percentual): Time_of_Day\n",
      "Time_of_Day\n",
      "Afternoon    0.390526\n",
      "Morning      0.297895\n",
      "Evening      0.213684\n",
      "Night        0.097895\n",
      "Name: proportion, dtype: float64\n",
      "\n",
      "Coluna (Quantidade total): Day_of_Week\n",
      "Day_of_Week\n",
      "Weekday    655\n",
      "Weekend    295\n",
      "Name: count, dtype: int64\n",
      "\n",
      "Coluna (Quantidade percentual): Day_of_Week\n",
      "Day_of_Week\n",
      "Weekday    0.689474\n",
      "Weekend    0.310526\n",
      "Name: proportion, dtype: float64\n",
      "\n",
      "Coluna (Quantidade total): Traffic_Conditions\n",
      "Traffic_Conditions\n",
      "Low       397\n",
      "Medium    371\n",
      "High      182\n",
      "Name: count, dtype: int64\n",
      "\n",
      "Coluna (Quantidade percentual): Traffic_Conditions\n",
      "Traffic_Conditions\n",
      "Low       0.417895\n",
      "Medium    0.390526\n",
      "High      0.191579\n",
      "Name: proportion, dtype: float64\n",
      "\n",
      "Coluna (Quantidade total): Weather\n",
      "Weather\n",
      "Clear    667\n",
      "Rain     227\n",
      "Snow      56\n",
      "Name: count, dtype: int64\n",
      "\n",
      "Coluna (Quantidade percentual): Weather\n",
      "Weather\n",
      "Clear    0.702105\n",
      "Rain     0.238947\n",
      "Snow     0.058947\n",
      "Name: proportion, dtype: float64\n"
     ]
    }
   ],
   "source": [
    "print(\"Colunas categóricas:\")\n",
    "\n",
    "colunas_cat = df.select_dtypes(include=['object']).columns.to_list()\n",
    "for col in df[colunas_cat]:\n",
    "    print(f\"\\nColuna (Quantidade total): {col}\\n{df[col].value_counts()}\")\n",
    "    print(f\"\\nColuna (Quantidade percentual): {col}\\n{df[col].value_counts(normalize=True)}\")"
   ]
  },
  {
   "cell_type": "code",
   "execution_count": 27,
   "metadata": {},
   "outputs": [
    {
     "data": {
      "text/html": [
       "<div>\n",
       "<style scoped>\n",
       "    .dataframe tbody tr th:only-of-type {\n",
       "        vertical-align: middle;\n",
       "    }\n",
       "\n",
       "    .dataframe tbody tr th {\n",
       "        vertical-align: top;\n",
       "    }\n",
       "\n",
       "    .dataframe thead th {\n",
       "        text-align: right;\n",
       "    }\n",
       "</style>\n",
       "<table border=\"1\" class=\"dataframe\">\n",
       "  <thead>\n",
       "    <tr style=\"text-align: right;\">\n",
       "      <th></th>\n",
       "      <th>count</th>\n",
       "      <th>mean</th>\n",
       "      <th>std</th>\n",
       "      <th>min</th>\n",
       "      <th>0%</th>\n",
       "      <th>25%</th>\n",
       "      <th>50%</th>\n",
       "      <th>75%</th>\n",
       "      <th>max</th>\n",
       "    </tr>\n",
       "  </thead>\n",
       "  <tbody>\n",
       "    <tr>\n",
       "      <th>Trip_Distance_km</th>\n",
       "      <td>950.0</td>\n",
       "      <td>27.070547</td>\n",
       "      <td>19.905300</td>\n",
       "      <td>1.2300</td>\n",
       "      <td>1.2300</td>\n",
       "      <td>12.63250</td>\n",
       "      <td>25.8300</td>\n",
       "      <td>38.40500</td>\n",
       "      <td>146.067047</td>\n",
       "    </tr>\n",
       "    <tr>\n",
       "      <th>Passenger_Count</th>\n",
       "      <td>950.0</td>\n",
       "      <td>2.476842</td>\n",
       "      <td>1.102249</td>\n",
       "      <td>1.0000</td>\n",
       "      <td>1.0000</td>\n",
       "      <td>1.25000</td>\n",
       "      <td>2.0000</td>\n",
       "      <td>3.00000</td>\n",
       "      <td>4.000000</td>\n",
       "    </tr>\n",
       "    <tr>\n",
       "      <th>Base_Fare</th>\n",
       "      <td>950.0</td>\n",
       "      <td>3.502989</td>\n",
       "      <td>0.870162</td>\n",
       "      <td>2.0100</td>\n",
       "      <td>2.0100</td>\n",
       "      <td>2.73000</td>\n",
       "      <td>3.5200</td>\n",
       "      <td>4.26000</td>\n",
       "      <td>5.000000</td>\n",
       "    </tr>\n",
       "    <tr>\n",
       "      <th>Per_Km_Rate</th>\n",
       "      <td>950.0</td>\n",
       "      <td>1.233316</td>\n",
       "      <td>0.429816</td>\n",
       "      <td>0.5000</td>\n",
       "      <td>0.5000</td>\n",
       "      <td>0.86000</td>\n",
       "      <td>1.2200</td>\n",
       "      <td>1.61000</td>\n",
       "      <td>2.000000</td>\n",
       "    </tr>\n",
       "    <tr>\n",
       "      <th>Per_Minute_Rate</th>\n",
       "      <td>950.0</td>\n",
       "      <td>0.292916</td>\n",
       "      <td>0.115592</td>\n",
       "      <td>0.1000</td>\n",
       "      <td>0.1000</td>\n",
       "      <td>0.19000</td>\n",
       "      <td>0.2900</td>\n",
       "      <td>0.39000</td>\n",
       "      <td>0.500000</td>\n",
       "    </tr>\n",
       "    <tr>\n",
       "      <th>Trip_Duration_Minutes</th>\n",
       "      <td>950.0</td>\n",
       "      <td>62.118116</td>\n",
       "      <td>32.154406</td>\n",
       "      <td>5.0100</td>\n",
       "      <td>5.0100</td>\n",
       "      <td>35.88250</td>\n",
       "      <td>61.8600</td>\n",
       "      <td>89.05500</td>\n",
       "      <td>119.840000</td>\n",
       "    </tr>\n",
       "    <tr>\n",
       "      <th>Trip_Price</th>\n",
       "      <td>951.0</td>\n",
       "      <td>56.874773</td>\n",
       "      <td>40.469791</td>\n",
       "      <td>6.1269</td>\n",
       "      <td>6.1269</td>\n",
       "      <td>33.74265</td>\n",
       "      <td>50.0745</td>\n",
       "      <td>69.09935</td>\n",
       "      <td>332.043689</td>\n",
       "    </tr>\n",
       "  </tbody>\n",
       "</table>\n",
       "</div>"
      ],
      "text/plain": [
       "                       count       mean        std     min      0%       25%  \\\n",
       "Trip_Distance_km       950.0  27.070547  19.905300  1.2300  1.2300  12.63250   \n",
       "Passenger_Count        950.0   2.476842   1.102249  1.0000  1.0000   1.25000   \n",
       "Base_Fare              950.0   3.502989   0.870162  2.0100  2.0100   2.73000   \n",
       "Per_Km_Rate            950.0   1.233316   0.429816  0.5000  0.5000   0.86000   \n",
       "Per_Minute_Rate        950.0   0.292916   0.115592  0.1000  0.1000   0.19000   \n",
       "Trip_Duration_Minutes  950.0  62.118116  32.154406  5.0100  5.0100  35.88250   \n",
       "Trip_Price             951.0  56.874773  40.469791  6.1269  6.1269  33.74265   \n",
       "\n",
       "                           50%       75%         max  \n",
       "Trip_Distance_km       25.8300  38.40500  146.067047  \n",
       "Passenger_Count         2.0000   3.00000    4.000000  \n",
       "Base_Fare               3.5200   4.26000    5.000000  \n",
       "Per_Km_Rate             1.2200   1.61000    2.000000  \n",
       "Per_Minute_Rate         0.2900   0.39000    0.500000  \n",
       "Trip_Duration_Minutes  61.8600  89.05500  119.840000  \n",
       "Trip_Price             50.0745  69.09935  332.043689  "
      ]
     },
     "execution_count": 27,
     "metadata": {},
     "output_type": "execute_result"
    }
   ],
   "source": [
    "df.describe(percentiles=[0, .25, .50, .75]).T"
   ]
  },
  {
   "cell_type": "code",
   "execution_count": 29,
   "metadata": {},
   "outputs": [
    {
     "name": "stdout",
     "output_type": "stream",
     "text": [
      "Contagem de outliers utilizando Z-Score:\n",
      "Trip_Distance_km: 20\n",
      "Passenger_Count: 0\n",
      "Base_Fare: 0\n",
      "Per_Km_Rate: 0\n",
      "Per_Minute_Rate: 0\n",
      "Trip_Duration_Minutes: 0\n",
      "Trip_Price: 20\n"
     ]
    }
   ],
   "source": [
    "def contagem_outliers(df):\n",
    "    colunas_num = df.select_dtypes(include=['int64', 'float64']).columns.to_list()\n",
    "    outliers_count = {}\n",
    "    for col in colunas_num:\n",
    "        z_scores = np.abs((df[col] - df[col].mean()) / df[col].std())\n",
    "        outliers = df[z_scores > 3]\n",
    "        outliers_count[col] = len(outliers)\n",
    "    return outliers_count\n",
    "\n",
    "outliers_count = contagem_outliers(df)\n",
    "print(\"Contagem de outliers utilizando Z-Score:\")\n",
    "for col, count in outliers_count.items():\n",
    "    print(f\"{col}: {count}\")"
   ]
  },
  {
   "cell_type": "code",
   "execution_count": 30,
   "metadata": {},
   "outputs": [
    {
     "name": "stdout",
     "output_type": "stream",
     "text": [
      "\n",
      "Quantidade de outliers em cada coluna numérica utilizando Quartil:\n",
      "Trip_Distance_km: 20\n",
      "Passenger_Count: 0\n",
      "Base_Fare: 0\n",
      "Per_Km_Rate: 0\n",
      "Per_Minute_Rate: 0\n",
      "Trip_Duration_Minutes: 0\n",
      "Trip_Price: 26\n"
     ]
    }
   ],
   "source": [
    "colunas_num = [col for col in df.columns if df[col].dtype in ['int64', 'float64']]\n",
    "\n",
    "print(\"\\nQuantidade de outliers em cada coluna numérica utilizando Quartil:\")\n",
    "for col in colunas_num:\n",
    "    Q1 = df[col].quantile(0.25)\n",
    "    Q3 = df[col].quantile(0.75)\n",
    "    IQR = Q3 - Q1\n",
    "    outliers = df[(df[col] < (Q1 - 1.5 * IQR)) | (df[col] > (Q3 + 1.5 * IQR))]\n",
    "    print(f\"{col}: {outliers.shape[0]}\")"
   ]
  }
 ],
 "metadata": {
  "kernelspec": {
   "display_name": "Python 3",
   "language": "python",
   "name": "python3"
  },
  "language_info": {
   "codemirror_mode": {
    "name": "ipython",
    "version": 3
   },
   "file_extension": ".py",
   "mimetype": "text/x-python",
   "name": "python",
   "nbconvert_exporter": "python",
   "pygments_lexer": "ipython3",
   "version": "3.13.0"
  }
 },
 "nbformat": 4,
 "nbformat_minor": 2
}
